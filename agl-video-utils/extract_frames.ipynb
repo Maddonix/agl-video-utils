{
 "cells": [
  {
   "cell_type": "code",
   "execution_count": 1,
   "metadata": {},
   "outputs": [],
   "source": [
    "# Path: agl-video-utils/extract_frames.ipynb\n",
    "from pathlib import Path\n",
    "from extractor import FrameExtractor\n",
    "\n",
    "video_path = Path(\"../data/NINJVP_S001_S001_T001.mp4\")\n",
    "\n",
    "\n",
    "extractor = FrameExtractor(video_path)\n",
    "\n"
   ]
  },
  {
   "cell_type": "code",
   "execution_count": 2,
   "metadata": {},
   "outputs": [
    {
     "name": "stderr",
     "output_type": "stream",
     "text": [
      "  6%|▌         | 2415/43076 [01:07<19:32, 34.67it/s]"
     ]
    }
   ],
   "source": [
    "extractor.extract_frames(frame_interval=1)"
   ]
  },
  {
   "cell_type": "code",
   "execution_count": null,
   "metadata": {},
   "outputs": [],
   "source": []
  }
 ],
 "metadata": {
  "kernelspec": {
   "display_name": ".venv",
   "language": "python",
   "name": "python3"
  },
  "language_info": {
   "codemirror_mode": {
    "name": "ipython",
    "version": 3
   },
   "file_extension": ".py",
   "mimetype": "text/x-python",
   "name": "python",
   "nbconvert_exporter": "python",
   "pygments_lexer": "ipython3",
   "version": "3.11.4"
  },
  "orig_nbformat": 4
 },
 "nbformat": 4,
 "nbformat_minor": 2
}
