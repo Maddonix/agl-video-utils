{
 "cells": [
  {
   "cell_type": "code",
   "execution_count": 1,
   "metadata": {},
   "outputs": [],
   "source": [
    "from converter import VideoConverter\n",
    "\n",
    "converter = VideoConverter()\n"
   ]
  },
  {
   "cell_type": "code",
   "execution_count": 2,
   "metadata": {},
   "outputs": [
    {
     "data": {
      "text/plain": [
       "{'filename': '../data/NINJVP_S001_S001_T001.MOV',\n",
       " 'duration': '861.519800',\n",
       " 'size': '37549111808',\n",
       " 'bit_rate': '348677876',\n",
       " 'creation_time': '2025-10-24T14:40:26.000000Z',\n",
       " 'streams': [{'codec_name': 'pcm_s24le',\n",
       "   'codec_type': 'audio',\n",
       "   'duration': '861.519792',\n",
       "   'bit_rate': '2304000',\n",
       "   'frame_rate': '0/0',\n",
       "   'color_space': None,\n",
       "   'color_range': None},\n",
       "  {'codec_name': 'prores',\n",
       "   'codec_type': 'video',\n",
       "   'duration': '861.520000',\n",
       "   'bit_rate': '346364643',\n",
       "   'frame_rate': '50/1',\n",
       "   'color_space': 'bt709',\n",
       "   'color_range': 'tv',\n",
       "   'width': 1920,\n",
       "   'height': 1080},\n",
       "  {'codec_name': None,\n",
       "   'codec_type': 'data',\n",
       "   'duration': '861.520000',\n",
       "   'bit_rate': None,\n",
       "   'frame_rate': '0/0',\n",
       "   'color_space': None,\n",
       "   'color_range': None}]}"
      ]
     },
     "execution_count": 2,
     "metadata": {},
     "output_type": "execute_result"
    }
   ],
   "source": [
    "converter.probe"
   ]
  },
  {
   "cell_type": "code",
   "execution_count": 3,
   "metadata": {},
   "outputs": [
    {
     "name": "stderr",
     "output_type": "stream",
     "text": [
      "ffmpeg version 4.4.2-0ubuntu0.22.04.1 Copyright (c) 2000-2021 the FFmpeg developers\n",
      "  built with gcc 11 (Ubuntu 11.2.0-19ubuntu1)\n",
      "  configuration: --prefix=/usr --extra-version=0ubuntu0.22.04.1 --toolchain=hardened --libdir=/usr/lib/x86_64-linux-gnu --incdir=/usr/include/x86_64-linux-gnu --arch=amd64 --enable-gpl --disable-stripping --enable-gnutls --enable-ladspa --enable-libaom --enable-libass --enable-libbluray --enable-libbs2b --enable-libcaca --enable-libcdio --enable-libcodec2 --enable-libdav1d --enable-libflite --enable-libfontconfig --enable-libfreetype --enable-libfribidi --enable-libgme --enable-libgsm --enable-libjack --enable-libmp3lame --enable-libmysofa --enable-libopenjpeg --enable-libopenmpt --enable-libopus --enable-libpulse --enable-librabbitmq --enable-librubberband --enable-libshine --enable-libsnappy --enable-libsoxr --enable-libspeex --enable-libsrt --enable-libssh --enable-libtheora --enable-libtwolame --enable-libvidstab --enable-libvorbis --enable-libvpx --enable-libwebp --enable-libx265 --enable-libxml2 --enable-libxvid --enable-libzimg --enable-libzmq --enable-libzvbi --enable-lv2 --enable-omx --enable-openal --enable-opencl --enable-opengl --enable-sdl2 --enable-pocketsphinx --enable-librsvg --enable-libmfx --enable-libdc1394 --enable-libdrm --enable-libiec61883 --enable-chromaprint --enable-frei0r --enable-libx264 --enable-shared\n",
      "  WARNING: library configuration mismatch\n",
      "  avcodec     configuration: --prefix=/usr --extra-version=0ubuntu0.22.04.1 --toolchain=hardened --libdir=/usr/lib/x86_64-linux-gnu --incdir=/usr/include/x86_64-linux-gnu --arch=amd64 --enable-gpl --disable-stripping --enable-gnutls --enable-ladspa --enable-libaom --enable-libass --enable-libbluray --enable-libbs2b --enable-libcaca --enable-libcdio --enable-libcodec2 --enable-libdav1d --enable-libflite --enable-libfontconfig --enable-libfreetype --enable-libfribidi --enable-libgme --enable-libgsm --enable-libjack --enable-libmp3lame --enable-libmysofa --enable-libopenjpeg --enable-libopenmpt --enable-libopus --enable-libpulse --enable-librabbitmq --enable-librubberband --enable-libshine --enable-libsnappy --enable-libsoxr --enable-libspeex --enable-libsrt --enable-libssh --enable-libtheora --enable-libtwolame --enable-libvidstab --enable-libvorbis --enable-libvpx --enable-libwebp --enable-libx265 --enable-libxml2 --enable-libxvid --enable-libzimg --enable-libzmq --enable-libzvbi --enable-lv2 --enable-omx --enable-openal --enable-opencl --enable-opengl --enable-sdl2 --enable-pocketsphinx --enable-librsvg --enable-libmfx --enable-libdc1394 --enable-libdrm --enable-libiec61883 --enable-chromaprint --enable-frei0r --enable-libx264 --enable-shared --enable-version3 --disable-doc --disable-programs --enable-libaribb24 --enable-libopencore_amrnb --enable-libopencore_amrwb --enable-libtesseract --enable-libvo_amrwbenc --enable-libsmbclient\n",
      "  libavutil      56. 70.100 / 56. 70.100\n",
      "  libavcodec     58.134.100 / 58.134.100\n",
      "  libavformat    58. 76.100 / 58. 76.100\n",
      "  libavdevice    58. 13.100 / 58. 13.100\n",
      "  libavfilter     7.110.100 /  7.110.100\n",
      "  libswscale      5.  9.100 /  5.  9.100\n",
      "  libswresample   3.  9.100 /  3.  9.100\n",
      "  libpostproc    55.  9.100 / 55.  9.100\n",
      "[mov,mp4,m4a,3gp,3g2,mj2 @ 0x55d953ba06c0] overread end of atom '[169]mak' by 2 bytes\n",
      "[mov,mp4,m4a,3gp,3g2,mj2 @ 0x55d953ba06c0] overread end of atom '[169]swr' by 3 bytes\n",
      "Guessed Channel Layout for Input Stream #0.0 : stereo\n",
      "Input #0, mov,mp4,m4a,3gp,3g2,mj2, from '../data/NINJVP_S001_S001_T001.MOV':\n",
      "  Metadata:\n",
      "    major_brand     : qt  \n",
      "    minor_version   : 537199360\n",
      "    compatible_brands: qt  \n",
      "    creation_time   : 2025-10-24T14:40:26.000000Z\n",
      "    make            : Atomos\n",
      "    make-eng        : Atomos\n",
      "    encoder         : NinjaV+ - 10.80.0   \n",
      "    encoder-eng     : NinjaV+ - 10.80.0   \n",
      "    com.atomos.hdr.gamut: Rec709\n",
      "    com.atomos.hdr.gamma: Rec709\n",
      "    com.atomos.hdr.monitormode: Native\n",
      "    com.atomos.hdr.range: Legal\n",
      "    com.apple.proapps.image.{TIFF}.Make: Atomos\n",
      "    com.apple.proapps.image.{TIFF}.Model: NinjaV+\n",
      "    com.apple.proapps.image.{TIFF}.Software: 10.80.0\n",
      "    timecode        : 00:00:00:00\n",
      "  Duration: 00:14:21.52, start: 0.000000, bitrate: 348677 kb/s\n",
      "  Stream #0:0(eng): Audio: pcm_s24le (in24 / 0x34326E69), 48000 Hz, stereo, s32 (24 bit), 2304 kb/s (default)\n",
      "    Metadata:\n",
      "      creation_time   : 2025-10-24T14:40:26.000000Z\n",
      "      vendor_id       : [0][0][0][0]\n",
      "  Stream #0:1(eng): Video: prores (HQ) (apch / 0x68637061), yuv422p10le(tv, bt709, progressive), 1920x1080, 346364 kb/s, SAR 1:1 DAR 16:9, 50 fps, 50 tbr, 5k tbn, 5k tbc (default)\n",
      "    Metadata:\n",
      "      creation_time   : 2025-10-24T14:40:26.000000Z\n",
      "      vendor_id       : appl\n",
      "      encoder         : Apple ProRes 422 HQ\n",
      "  Stream #0:2(eng): Data: none (tmcd / 0x64636D74) (default)\n",
      "    Metadata:\n",
      "      creation_time   : 2025-10-24T14:40:26.000000Z\n",
      "      timecode        : 00:00:00:00\n",
      "Stream mapping:\n",
      "  Stream #0:1 -> #0:0 (prores (native) -> h264 (libx264))\n",
      "  Stream #0:0 -> #0:1 (pcm_s24le (native) -> aac (native))\n",
      "Press [q] to stop, [?] for help\n",
      "[libx264 @ 0x55d953bca740] using SAR=1/1\n",
      "[libx264 @ 0x55d953bca740] using cpu capabilities: MMX2 SSE2Fast SSSE3 SSE4.2 AVX FMA3 BMI2 AVX2\n",
      "[libx264 @ 0x55d953bca740] profile High 4:2:2, level 4.2, 4:2:2, 10-bit\n",
      "[libx264 @ 0x55d953bca740] 264 - core 163 r3060 5db6aa6 - H.264/MPEG-4 AVC codec - Copyleft 2003-2021 - http://www.videolan.org/x264.html - options: cabac=1 ref=3 deblock=1:0:0 analyse=0x3:0x113 me=hex subme=7 psy=1 psy_rd=1.00:0.00 mixed_ref=1 me_range=16 chroma_me=1 trellis=1 8x8dct=1 cqm=0 deadzone=21,11 fast_pskip=1 chroma_qp_offset=-2 threads=34 lookahead_threads=5 sliced_threads=0 nr=0 decimate=1 interlaced=0 bluray_compat=0 constrained_intra=0 bframes=3 b_pyramid=2 b_adapt=1 b_bias=0 direct=1 weightb=1 open_gop=0 weightp=2 keyint=250 keyint_min=25 scenecut=40 intra_refresh=0 rc_lookahead=40 rc=crf mbtree=1 crf=23.0 qcomp=0.60 qpmin=0 qpmax=81 qpstep=4 ip_ratio=1.40 aq=1:1.00\n",
      "[mp4 @ 0x55d953bc8ec0] Application provided duration: -9223372036854775808 / timestamp: -9223372036854775808 is out of range for mov/mp4 format\n",
      "[mp4 @ 0x55d953bc8ec0] pts has no value\n",
      "Output #0, mp4, to '../data/NINJVP_S001_S001_T001.mp4':\n",
      "  Metadata:\n",
      "    major_brand     : qt  \n",
      "    minor_version   : 537199360\n",
      "    compatible_brands: qt  \n",
      "    timecode        : 00:00:00:00\n",
      "    make            : Atomos\n",
      "    make-eng        : Atomos\n",
      "    com.apple.proapps.image.{TIFF}.Software: 10.80.0\n",
      "    encoder         : Lavf58.76.100\n",
      "    com.atomos.hdr.gamut: Rec709\n",
      "    com.atomos.hdr.gamma: Rec709\n",
      "    com.atomos.hdr.monitormode: Native\n",
      "    com.atomos.hdr.range: Legal\n",
      "    com.apple.proapps.image.{TIFF}.Make: Atomos\n",
      "    com.apple.proapps.image.{TIFF}.Model: NinjaV+\n",
      "  Stream #0:0(eng): Video: h264 (avc1 / 0x31637661), yuv422p10le(tv, bt709, progressive), 1920x1080 [SAR 1:1 DAR 16:9], q=2-31, 0.02 fps, 12800 tbn (default)\n",
      "    Metadata:\n",
      "      creation_time   : 2025-10-24T14:40:26.000000Z\n",
      "      vendor_id       : appl\n",
      "      encoder         : Lavc58.134.100 libx264\n",
      "    Side data:\n",
      "      cpb: bitrate max/min/avg: 0/0/0 buffer size: 0 vbv_delay: N/A\n",
      "  Stream #0:1(eng): Audio: aac (LC) (mp4a / 0x6134706D), 48000 Hz, stereo, fltp (24 bit), 128 kb/s (default)\n",
      "    Metadata:\n",
      "      creation_time   : 2025-10-24T14:40:26.000000Z\n",
      "      vendor_id       : [0][0][0][0]\n",
      "      encoder         : Lavc58.134.100 aac\n",
      "frame=43043 fps=130 q=43.0 size= 1076480kB time=00:14:20.92 bitrate=10243.0kbits/s speed=2.61x    \r"
     ]
    },
    {
     "name": "stdout",
     "output_type": "stream",
     "text": [
      "Successfully converted ../data/NINJVP_S001_S001_T001.MOV to ../data/NINJVP_S001_S001_T001.mp4\n"
     ]
    },
    {
     "name": "stderr",
     "output_type": "stream",
     "text": [
      "frame=43076 fps=130 q=-1.0 Lsize= 1081703kB time=00:14:21.50 bitrate=10285.9kbits/s speed= 2.6x    \n",
      "video:1067540kB audio:13128kB subtitle:0kB other streams:0kB global headers:0kB muxing overhead: 0.095753%\n",
      "[libx264 @ 0x55d953bca740] frame I:174   Avg QP:34.54  size:107869\n",
      "[libx264 @ 0x55d953bca740] frame P:11934 Avg QP:39.51  size: 40189\n",
      "[libx264 @ 0x55d953bca740] frame B:30968 Avg QP:40.73  size: 19206\n",
      "[libx264 @ 0x55d953bca740] consecutive B-frames:  3.2%  2.1%  2.0% 92.7%\n",
      "[libx264 @ 0x55d953bca740] mb I  I16..4:  9.4% 79.3% 11.3%\n",
      "[libx264 @ 0x55d953bca740] mb P  I16..4:  4.5% 26.5%  2.2%  P16..4: 21.0%  5.5%  3.4%  0.0%  0.0%    skip:36.7%\n",
      "[libx264 @ 0x55d953bca740] mb B  I16..4:  1.0%  4.8%  0.3%  B16..8: 25.7%  3.3%  0.8%  direct: 4.8%  skip:59.5%  L0:44.9% L1:49.9% BI: 5.2%\n",
      "[libx264 @ 0x55d953bca740] 8x8 transform intra:79.5% inter:81.9%\n",
      "[libx264 @ 0x55d953bca740] coded y,uvDC,uvAC intra: 52.9% 88.9% 40.6% inter: 15.1% 27.7% 1.9%\n",
      "[libx264 @ 0x55d953bca740] i16 v,h,dc,p: 24% 17%  6% 54%\n",
      "[libx264 @ 0x55d953bca740] i8 v,h,dc,ddl,ddr,vr,hd,vl,hu: 13% 11% 23%  9% 11%  9%  9%  7%  8%\n",
      "[libx264 @ 0x55d953bca740] i4 v,h,dc,ddl,ddr,vr,hd,vl,hu: 19% 14% 20%  9% 12%  9%  8%  6%  5%\n",
      "[libx264 @ 0x55d953bca740] i8c dc,h,v,p: 53% 12% 21% 14%\n",
      "[libx264 @ 0x55d953bca740] Weighted P-Frames: Y:0.0% UV:0.0%\n",
      "[libx264 @ 0x55d953bca740] ref P L0: 67.1% 21.4% 11.5%\n",
      "[libx264 @ 0x55d953bca740] ref B L0: 87.9%  9.3%  2.8%\n",
      "[libx264 @ 0x55d953bca740] ref B L1: 96.2%  3.8%\n",
      "[libx264 @ 0x55d953bca740] kb/s:10150.99\n",
      "[aac @ 0x55d953bc1180] Qavg: 47854.652\n"
     ]
    }
   ],
   "source": [
    "converter.convert(\"mp4\")"
   ]
  },
  {
   "cell_type": "code",
   "execution_count": null,
   "metadata": {},
   "outputs": [],
   "source": []
  }
 ],
 "metadata": {
  "kernelspec": {
   "display_name": ".venv",
   "language": "python",
   "name": "python3"
  },
  "language_info": {
   "codemirror_mode": {
    "name": "ipython",
    "version": 3
   },
   "file_extension": ".py",
   "mimetype": "text/x-python",
   "name": "python",
   "nbconvert_exporter": "python",
   "pygments_lexer": "ipython3",
   "version": "3.11.4"
  },
  "orig_nbformat": 4
 },
 "nbformat": 4,
 "nbformat_minor": 2
}
